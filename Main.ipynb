{
 "cells": [
  {
   "cell_type": "code",
   "execution_count": 1,
   "metadata": {},
   "outputs": [],
   "source": [
    "import torch\n",
    "import matplotlib.pyplot as plt\n",
    "\n",
    "from HebbNet import *\n",
    "from models import Glove2kSparse  # Change if using other model."
   ]
  },
  {
   "cell_type": "code",
   "execution_count": 2,
   "metadata": {},
   "outputs": [
    {
     "data": {
      "text/plain": [
       "<All keys matched successfully>"
      ]
     },
     "execution_count": 2,
     "metadata": {},
     "output_type": "execute_result"
    }
   ],
   "source": [
    "# Glove setup\n",
    "glove = {}\n",
    "f = open('data/mini_glove.txt', encoding='utf-8')\n",
    "for line in f:\n",
    "    values = line.split()\n",
    "    word = values[0]\n",
    "    coefs = np.asarray(values[1:], dtype='float32')\n",
    "    glove[word] = coefs\n",
    "f.close()\n",
    "\n",
    "# Encoder setup\n",
    "encoder = Glove2kSparse()\n",
    "encoder.load_state_dict(torch.load(\"data/very_sparse_glove.pt\"))"
   ]
  },
  {
   "cell_type": "code",
   "execution_count": 3,
   "metadata": {},
   "outputs": [],
   "source": [
    "# Helper functions\n",
    "\n",
    "def word2sparse(word):\n",
    "    return encoder.encode(torch.tensor(glove[word])).squeeze().detach().numpy()\n",
    "\n",
    "def strip_word(word):\n",
    "    return ''.join(char for char in word if char.isalpha()).lower()\n",
    "\n",
    "def tokenize(text):\n",
    "    return [strip_word(word) for word in text.split()]"
   ]
  },
  {
   "cell_type": "code",
   "execution_count": 4,
   "metadata": {},
   "outputs": [],
   "source": [
    "class WordBrain(NeuralNet):\n",
    "    def __init__(self, num_neurons, conn_prob=.7, scale=30, weight_init_exp=.25, weight_init_std=.25):\n",
    "        super().__init__(scale=scale, weight_init_exp=weight_init_exp, weight_init_std=weight_init_std)\n",
    "        for j in range(1, num_neurons + 1):\n",
    "            self.add_neuron()\n",
    "        for i in range(1, j):\n",
    "            if np.random.uniform() < conn_prob:\n",
    "                self.connect_neurons(i, j)\n",
    "            if np.random.uniform() < conn_prob:\n",
    "                self.connect_neurons(j, i)\n",
    "        self.tokens = []\n",
    "    \n",
    "    def add_text(self, text):\n",
    "        self.tokens += tokenize(text)\n",
    "        \n",
    "    def process_word(self, memory1=.15, memory2=.7, firing_count = 1, log_words=True):  # .3, .5\n",
    "        if len(self.tokens) == 0:\n",
    "            print(\"Error:  The text queue is empty; please input more text using add_text().\")\n",
    "            return\n",
    "        while self.tokens[0] not in glove:  # Find nearest embedable word\n",
    "            if log_words:\n",
    "                print(f\"{self.tokens[0]} missing from glove - word not processed\")\n",
    "            self.tokens.pop(0)\n",
    "        for _ in range(firing_count):\n",
    "            self.fire_neurons(memory1)\n",
    "        vec = word2sparse(self.tokens[0])\n",
    "        self.new_inputs(vec, memory2)\n",
    "        if log_words:\n",
    "            print(f\"Latest word: {self.tokens[0]}\")\n",
    "        self.tokens.pop(0)\n",
    "        \n",
    "    def visualize(self, width=20):  # Width must divide num_neurons\n",
    "        height = len(self.neurons) // width\n",
    "        grid = main_net.get_encoding().reshape(width, height)\n",
    "        plt.imshow(grid, cmap='gray_r')"
   ]
  },
  {
   "cell_type": "code",
   "execution_count": 5,
   "metadata": {},
   "outputs": [],
   "source": [
    "text = '''I like Italian food.  Pasta with tomato sauce is a favorite of mine.\n",
    "Basil is great.  I want pizza with it and penne vodka.'''\n",
    "\n",
    "main_net = WordBrain(1000, conn_prob=.7, scale=18,\n",
    "                          weight_init_exp=0, weight_init_std=.25)\n",
    "main_net.add_text(text)"
   ]
  },
  {
   "cell_type": "code",
   "execution_count": 17,
   "metadata": {},
   "outputs": [
    {
     "name": "stdout",
     "output_type": "stream",
     "text": [
      "Latest word: tomato\n"
     ]
    },
    {
     "data": {
      "image/png": "[encoded data removed]",
      "text/plain": [
       "<Figure size 432x288 with 1 Axes>"
      ]
     },
     "metadata": {
      "needs_background": "light"
     },
     "output_type": "display_data"
    }
   ],
   "source": [
    "main_net.process_word(firing_count=1)\n",
    "main_net.visualize()"
   ]
  },
  {
   "cell_type": "code",
   "execution_count": 18,
   "metadata": {},
   "outputs": [
    {
     "data": {
      "image/png": "[encoded data removed]",
      "text/plain": [
       "<Figure size 432x288 with 1 Axes>"
      ]
     },
     "metadata": {
      "needs_background": "light"
     },
     "output_type": "display_data"
    }
   ],
   "source": [
    "for _ in range(20):\n",
    "    main_net.fire_neurons(.3)\n",
    "main_net.visualize()"
   ]
  },
  {
   "cell_type": "code",
   "execution_count": 22,
   "metadata": {},
   "outputs": [],
   "source": [
    "main_net.clear_neurons()"
   ]
  },
  {
   "cell_type": "code",
   "execution_count": null,
   "metadata": {},
   "outputs": [],
   "source": []
  }
 ],
 "metadata": {
  "kernelspec": {
   "display_name": "Python 3",
   "language": "python",
   "name": "python3"
  },
  "language_info": {
   "codemirror_mode": {
    "name": "ipython",
    "version": 3
   },
   "file_extension": ".py",
   "mimetype": "text/x-python",
   "name": "python",
   "nbconvert_exporter": "python",
   "pygments_lexer": "ipython3",
   "version": "3.7.6"
  }
 },
 "nbformat": 4,
 "nbformat_minor": 2
}
