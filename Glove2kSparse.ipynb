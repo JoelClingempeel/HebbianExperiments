{
 "cells": [
  {
   "cell_type": "code",
   "execution_count": 1,
   "metadata": {},
   "outputs": [],
   "source": [
    "import numpy as np\n",
    "\n",
    "import torch\n",
    "import torch.nn as nn\n",
    "import torch.nn.functional as F\n",
    "import torch.optim as optim"
   ]
  },
  {
   "cell_type": "code",
   "execution_count": 4,
   "metadata": {},
   "outputs": [],
   "source": [
    "glove = {}\n",
    "f = open('data/mini_glove.txt', encoding='utf-8')\n",
    "for line in f:\n",
    "    values = line.split()\n",
    "    word = values[0]\n",
    "    coefs = np.asarray(values[1:], dtype='float32')\n",
    "    glove[word] = coefs\n",
    "f.close()"
   ]
  },
  {
   "cell_type": "code",
   "execution_count": 3,
   "metadata": {},
   "outputs": [],
   "source": [
    "class Glove2kSparse(nn.Module):\n",
    "    def __init__(self):\n",
    "        super(Glove2kSparse, self).__init__()\n",
    "        self.encoder = nn.Linear(100, 1000)\n",
    "        self.decoder = nn.Linear(1000, 100)\n",
    "    \n",
    "    def encode(self, x):\n",
    "        x = self.encoder(x)\n",
    "        topk = torch.topk(x, 25).indices\n",
    "        debug_count = 0\n",
    "        for index in range(len(x)):\n",
    "            if index not in topk:\n",
    "                x[index] = 0\n",
    "                debug_count += 1\n",
    "        return x\n",
    "    \n",
    "    def forward(self, x):  # Unsqueeze / squeeze?\n",
    "        return self.decoder(self.encode(x))\n",
    "    \n",
    "    def view_grads(self):\n",
    "        enc_grads = net.encoder.weight.grad.resize(100000)\n",
    "        dec_grads = net.decoder.weight.grad.resize(100000)\n",
    "        return sparse_vec_to_dict(torch.cat([enc_grads, dec_grads]))\n",
    "        \n",
    "net = Glove2kSparse()"
   ]
  },
  {
   "cell_type": "code",
   "execution_count": null,
   "metadata": {},
   "outputs": [],
   "source": [
    "criterion = nn.MSELoss()\n",
    "optimizer = optim.SGD(net.parameters(), lr=0.01, momentum=0.9)\n",
    "\n",
    "for epoch in range(1):\n",
    "    epoch_loss = 0\n",
    "    for j in range(len(glove)):\n",
    "        x_var = torch.tensor(list(glove.values())[j]).squeeze(0)\n",
    "        optimizer.zero_grad()\n",
    "        xpred_var = net(x_var)\n",
    "        loss = criterion(xpred_var, x_var)\n",
    "        loss.backward()\n",
    "        optimizer.step()\n",
    "        \n",
    "        # running loss\n",
    "        epoch_loss += loss.item()\n",
    "        if j%1000 == 0 and j > 0:\n",
    "            print(j, \"   \", epoch_loss / j)\n",
    "    print(f\"Epoch {epoch} Average Loss:  {epoch_loss / 10000}\")"
   ]
  },
  {
   "cell_type": "code",
   "execution_count": 99,
   "metadata": {},
   "outputs": [
    {
     "data": {
      "text/plain": [
       "<All keys matched successfully>"
      ]
     },
     "execution_count": 99,
     "metadata": {},
     "output_type": "execute_result"
    }
   ],
   "source": [
    "# torch.save(net.state_dict(), \"data/very_sparse_glove.pt\")\n",
    "net.load_state_dict(torch.load(\"data/very_sparse_glove.pt\"))"
   ]
  },
  {
   "cell_type": "code",
   "execution_count": 1,
   "metadata": {},
   "outputs": [],
   "source": [
    "def word2sparse(word):\n",
    "    return net.encode(torch.tensor(glove[word])).squeeze().detach().numpy()\n",
    "\n",
    "def vec_dist(vec1, vec2):\n",
    "    diff = vec1 - vec2\n",
    "    return np.sqrt(np.dot(diff, diff))\n",
    "\n",
    "def sparse_similarity(vec1, vec2):\n",
    "    count = 0\n",
    "    for index in range(len(vec1)):\n",
    "        if vec1[index] != 0 and vec2[index] != 0:\n",
    "            count += 1\n",
    "    return count\n",
    "\n",
    "def show_sparse(vec):\n",
    "    output = {}\n",
    "    for index in range(len(vec)):\n",
    "        if vec[index] != 0:\n",
    "            output[index] = vec[index]\n",
    "    return output"
   ]
  },
  {
   "cell_type": "code",
   "execution_count": null,
   "metadata": {},
   "outputs": [],
   "source": []
  }
 ],
 "metadata": {
  "kernelspec": {
   "display_name": "Python 3",
   "language": "python",
   "name": "python3"
  },
  "language_info": {
   "codemirror_mode": {
    "name": "ipython",
    "version": 3
   },
   "file_extension": ".py",
   "mimetype": "text/x-python",
   "name": "python",
   "nbconvert_exporter": "python",
   "pygments_lexer": "ipython3",
   "version": "3.7.6"
  }
 },
 "nbformat": 4,
 "nbformat_minor": 2
}
