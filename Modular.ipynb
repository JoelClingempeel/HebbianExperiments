{
 "cells": [
  {
   "cell_type": "markdown",
   "metadata": {},
   "source": [
    "### Best hyperparameters thus far:\n",
    "\n",
    "Intra:  conn_prob = .85, weight_init_exp=.85, weight_init_std=.2\n",
    "\n",
    "Inter:  conn_prob=.25, weight_init_exp=-.7, weight_init_std=.2"
   ]
  },
  {
   "cell_type": "code",
   "execution_count": 1,
   "metadata": {},
   "outputs": [],
   "source": [
    "import matplotlib.pyplot as plt\n",
    "\n",
    "from HebbNet import *"
   ]
  },
  {
   "cell_type": "code",
   "execution_count": 2,
   "metadata": {},
   "outputs": [],
   "source": [
    "class ModularHebb(HebbNet):\n",
    "    def __init__(self, module_size, num_modules, intra_prob=.85, inter_prob=.25, scale=30):\n",
    "        super().__init__(scale=scale)\n",
    "        self.module_size = module_size\n",
    "        self.num_modules = num_modules\n",
    "        num_neurons = module_size * num_modules\n",
    "        for j in range(1, num_neurons + 1):\n",
    "            self.add_neuron()\n",
    "        for i in range(1, num_neurons + 1):\n",
    "            for j in range(1, num_neurons + 1):\n",
    "                if i//num_modules == j//num_modules:\n",
    "                    if np.random.uniform() < intra_prob:\n",
    "                        self.connect_neurons(i, j, weight_init_exp=.85, weight_init_std=.2)\n",
    "                else:\n",
    "                    if np.random.uniform() < inter_prob:\n",
    "                        self.connect_neurons(i, j, weight_init_exp=-.7, weight_init_std=.2)\n",
    "                        \n",
    "    def process_vec(self, vec, memory1=.1, memory2=.7, firing_count=1):\n",
    "        for _ in range(firing_count):\n",
    "            self.fire_neurons(memory1)\n",
    "        self.new_inputs(vec, memory2)\n",
    "        \n",
    "    def visualize(self):\n",
    "        grid = self.get_encoding().reshape(self.num_modules, self.module_size)\n",
    "        plt.imshow(grid, cmap='gray_r')"
   ]
  },
  {
   "cell_type": "code",
   "execution_count": 3,
   "metadata": {},
   "outputs": [],
   "source": [
    "def sparse_input(active_rows, num_rows, nums_per_row):\n",
    "    rows = []\n",
    "    for j in range(num_rows):\n",
    "        if j in active_rows:\n",
    "            rows.append(np.random.rand(nums_per_row))\n",
    "        else:\n",
    "            rows.append(np.zeros(nums_per_row))\n",
    "    return np.concatenate(rows)"
   ]
  },
  {
   "cell_type": "code",
   "execution_count": 5,
   "metadata": {},
   "outputs": [],
   "source": [
    "net = ModularHebb(25, 25)"
   ]
  },
  {
   "cell_type": "code",
   "execution_count": 6,
   "metadata": {},
   "outputs": [
    {
     "data": {
      "image/png": "[encoded data removed]",
      "text/plain": [
       "<Figure size 432x288 with 1 Axes>"
      ]
     },
     "metadata": {
      "needs_background": "light"
     },
     "output_type": "display_data"
    }
   ],
   "source": [
    "k = 25\n",
    "v = sparse_input([j for j in range(k)], k, k)\n",
    "net.process_vec(v)\n",
    "net.visualize()"
   ]
  },
  {
   "cell_type": "code",
   "execution_count": 7,
   "metadata": {},
   "outputs": [
    {
     "data": {
      "image/png": "[encoded data removed]",
      "text/plain": [
       "<Figure size 432x288 with 1 Axes>"
      ]
     },
     "metadata": {
      "needs_background": "light"
     },
     "output_type": "display_data"
    }
   ],
   "source": [
    "for k in range(30):\n",
    "    net.fire_neurons(.2)\n",
    "net.visualize()"
   ]
  },
  {
   "cell_type": "code",
   "execution_count": 8,
   "metadata": {},
   "outputs": [
    {
     "data": {
      "image/png": "[encoded data removed]",
      "text/plain": [
       "<Figure size 432x288 with 1 Axes>"
      ]
     },
     "metadata": {
      "needs_background": "light"
     },
     "output_type": "display_data"
    }
   ],
   "source": [
    "for k in range(30):\n",
    "    net.fire_neurons(.2)\n",
    "net.visualize()"
   ]
  },
  {
   "cell_type": "code",
   "execution_count": 9,
   "metadata": {},
   "outputs": [
    {
     "data": {
      "image/png": "[encoded data removed]",
      "text/plain": [
       "<Figure size 432x288 with 1 Axes>"
      ]
     },
     "metadata": {
      "needs_background": "light"
     },
     "output_type": "display_data"
    }
   ],
   "source": [
    "for k in range(30):\n",
    "    net.fire_neurons(.2)\n",
    "net.visualize()"
   ]
  },
  {
   "cell_type": "code",
   "execution_count": 10,
   "metadata": {},
   "outputs": [
    {
     "data": {
      "image/png": "[encoded data removed]",
      "text/plain": [
       "<Figure size 432x288 with 1 Axes>"
      ]
     },
     "metadata": {
      "needs_background": "light"
     },
     "output_type": "display_data"
    }
   ],
   "source": [
    "for k in range(30):\n",
    "    net.fire_neurons(.2)\n",
    "net.visualize()"
   ]
  },
  {
   "cell_type": "code",
   "execution_count": 7,
   "metadata": {},
   "outputs": [],
   "source": [
    "net.clear_neurons()"
   ]
  },
  {
   "cell_type": "code",
   "execution_count": null,
   "metadata": {},
   "outputs": [],
   "source": []
  },
  {
   "cell_type": "code",
   "execution_count": null,
   "metadata": {},
   "outputs": [],
   "source": []
  }
 ],
 "metadata": {
  "kernelspec": {
   "display_name": "Python 3",
   "language": "python",
   "name": "python3"
  },
  "language_info": {
   "codemirror_mode": {
    "name": "ipython",
    "version": 3
   },
   "file_extension": ".py",
   "mimetype": "text/x-python",
   "name": "python",
   "nbconvert_exporter": "python",
   "pygments_lexer": "ipython3",
   "version": "3.7.6"
  }
 },
 "nbformat": 4,
 "nbformat_minor": 2
}
