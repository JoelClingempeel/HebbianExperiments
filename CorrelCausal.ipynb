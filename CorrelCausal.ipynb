{
 "cells": [
  {
   "cell_type": "code",
   "execution_count": 1,
   "metadata": {},
   "outputs": [],
   "source": [
    "import numpy as np\n",
    "import matplotlib.pyplot as plt\n",
    "\n",
    "from HebbNet import *"
   ]
  },
  {
   "cell_type": "code",
   "execution_count": 2,
   "metadata": {},
   "outputs": [],
   "source": [
    "def build_net():\n",
    "    net = HebbNet()\n",
    "    for k in range(10):\n",
    "        net.add_neuron()\n",
    "    for i in range(1, 11):\n",
    "        for j in range(1, 11):\n",
    "            net.connect_neurons(i, j)\n",
    "    return net\n",
    "\n",
    "def generate_input(iterations):\n",
    "    input_list = []\n",
    "    for i in range(iterations):\n",
    "        if np.random.rand() < .5:\n",
    "            input_list.append(2)\n",
    "            input_list.append(3)\n",
    "        else:\n",
    "            num = np.random.randint(0, 8)\n",
    "            if num > 1:\n",
    "                num += 2\n",
    "            input_list.append(num)\n",
    "    return input_list\n",
    "\n",
    "def one_hot(ind, size):\n",
    "    vec = [0] * size\n",
    "    vec[ind] = 1\n",
    "    return vec\n",
    "\n",
    "def process_input(net, input_list, memory1=.5, memory2=.2, firing_count=1):\n",
    "    for num in input_list:\n",
    "        for _ in range(firing_count):\n",
    "            net.fire_neurons(memory1)\n",
    "        net.new_inputs(one_hot(num, 10), memory2)"
   ]
  },
  {
   "cell_type": "code",
   "execution_count": 3,
   "metadata": {},
   "outputs": [],
   "source": [
    "net = build_net()\n",
    "input_list = generate_input(2000)\n",
    "process_input(net, input_list)"
   ]
  },
  {
   "cell_type": "code",
   "execution_count": 4,
   "metadata": {},
   "outputs": [
    {
     "data": {
      "text/plain": [
       "<matplotlib.image.AxesImage at 0x11fe14e50>"
      ]
     },
     "execution_count": 4,
     "metadata": {},
     "output_type": "execute_result"
    },
    {
     "data": {
      "image/png": "[encoded data removed]",
      "text/plain": [
       "<Figure size 432x288 with 1 Axes>"
      ]
     },
     "metadata": {
      "needs_background": "light"
     },
     "output_type": "display_data"
    }
   ],
   "source": [
    "net.new_inputs(one_hot(2, 10), 0)\n",
    "for _ in range(10):\n",
    "    net.fire_neurons(.5)\n",
    "plt.imshow([net.get_encoding()], cmap='gray_r')"
   ]
  },
  {
   "cell_type": "code",
   "execution_count": 5,
   "metadata": {},
   "outputs": [
    {
     "data": {
      "text/plain": [
       "array([3.62151071e-05, 2.61376224e-04, 1.15208360e+00, 3.20319161e-07,\n",
       "       2.49653845e-06, 1.21047222e-07, 2.28363741e-08, 6.39486462e-05,\n",
       "       8.09637730e-10, 2.77547263e-07])"
      ]
     },
     "execution_count": 5,
     "metadata": {},
     "output_type": "execute_result"
    }
   ],
   "source": [
    "net.get_encoding()*1000"
   ]
  },
  {
   "cell_type": "code",
   "execution_count": null,
   "metadata": {},
   "outputs": [],
   "source": []
  }
 ],
 "metadata": {
  "kernelspec": {
   "display_name": "Python 3",
   "language": "python",
   "name": "python3"
  },
  "language_info": {
   "codemirror_mode": {
    "name": "ipython",
    "version": 3
   },
   "file_extension": ".py",
   "mimetype": "text/x-python",
   "name": "python",
   "nbconvert_exporter": "python",
   "pygments_lexer": "ipython3",
   "version": "3.7.6"
  }
 },
 "nbformat": 4,
 "nbformat_minor": 2
}
