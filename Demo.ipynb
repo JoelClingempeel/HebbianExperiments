{
 "cells": [
  {
   "cell_type": "markdown",
   "metadata": {},
   "source": [
    "To change the underlying encoder, tweak the filepath in the WordBrain module."
   ]
  },
  {
   "cell_type": "code",
   "execution_count": 1,
   "metadata": {},
   "outputs": [],
   "source": [
    "from WordBrain import *"
   ]
  },
  {
   "cell_type": "markdown",
   "metadata": {},
   "source": [
    "Choose one of the following below."
   ]
  },
  {
   "cell_type": "code",
   "execution_count": null,
   "metadata": {},
   "outputs": [],
   "source": [
    "main_net = WordBrain(1000, conn_prob=.7, scale=18,\n",
    "                          weight_init_exp=0, weight_init_std=.25)"
   ]
  },
  {
   "cell_type": "code",
   "execution_count": 2,
   "metadata": {},
   "outputs": [],
   "source": [
    "import pickle\n",
    "\n",
    "f = open(\"data/main.heb\", 'rb')\n",
    "main_net = pickle.load(f)\n",
    "f.close()"
   ]
  },
  {
   "cell_type": "code",
   "execution_count": null,
   "metadata": {},
   "outputs": [],
   "source": [
    "import requests\n",
    "from bs4 import BeautifulSoup\n",
    "\n",
    "def text_from_wiki(title):\n",
    "    url = \"https://en.wikipedia.org/wiki/\" + title\n",
    "    soup = BeautifulSoup(requests.get(url).text, 'html.parser')\n",
    "    text = \"\"\n",
    "    paragraphs = soup.find_all('p')\n",
    "    for paragraph in paragraphs:\n",
    "        text += paragraph.get_text() + \" \"\n",
    "    return text\n",
    "\n",
    "def train_on_wiki(pages):\n",
    "    for page in wiki_pages:\n",
    "        main_net.add_text(text_from_wiki(page))\n",
    "        main_net.process_text(log_words=False)\n",
    "    \n",
    "wiki_pages = [\"Penne_alla_vodka\", \"Italy\", \"Italian_cuisine\", \"Pizza\", \"Cacio_e_pepe\", \"Pecorino_Romano\",\n",
    "              \"Pasta\", \"Lasagne\"]"
   ]
  },
  {
   "cell_type": "code",
   "execution_count": 3,
   "metadata": {},
   "outputs": [],
   "source": [
    "text = '''I like Italian food.  Pasta with tomato sauce is a favorite of mine.\n",
    "Basil is great.  I want pizza with it and penne vodka.'''\n",
    "\n",
    "main_net.add_text(text)\n",
    "main_net.process_text(log_words=False)"
   ]
  }
 ],
 "metadata": {
  "kernelspec": {
   "display_name": "Python 3",
   "language": "python",
   "name": "python3"
  },
  "language_info": {
   "codemirror_mode": {
    "name": "ipython",
    "version": 3
   },
   "file_extension": ".py",
   "mimetype": "text/x-python",
   "name": "python",
   "nbconvert_exporter": "python",
   "pygments_lexer": "ipython3",
   "version": "3.7.6"
  }
 },
 "nbformat": 4,
 "nbformat_minor": 2
}
