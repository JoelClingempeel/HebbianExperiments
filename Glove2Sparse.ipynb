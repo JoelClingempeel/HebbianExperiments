{
 "cells": [
  {
   "cell_type": "code",
   "execution_count": 1,
   "metadata": {},
   "outputs": [],
   "source": [
    "import numpy as np\n",
    "import random\n",
    "\n",
    "import torch"
   ]
  },
  {
   "cell_type": "code",
   "execution_count": 2,
   "metadata": {},
   "outputs": [],
   "source": [
    "glove = {}\n",
    "f = open('data/mini_glove.txt', encoding='utf-8')\n",
    "for line in f:\n",
    "    values = line.split()\n",
    "    word = values[0]\n",
    "    coefs = np.asarray(values[1:], dtype='float32')\n",
    "    glove[word] = coefs\n",
    "f.close()"
   ]
  },
  {
   "cell_type": "code",
   "execution_count": 2,
   "metadata": {},
   "outputs": [],
   "source": [
    "import torch.nn as nn\n",
    "import torch.nn.functional as F\n",
    "\n",
    "class Glove2Sparse(nn.Module):\n",
    "    def __init__(self):\n",
    "        super(Glove2Sparse, self).__init__()\n",
    "        self.layer1 = nn.Linear(100, 500)\n",
    "        self.layer2 = nn.Linear(500, 5000)\n",
    "        self.layer3 = nn.Linear(5000, 500)\n",
    "        self.layer4 = nn.Linear(500, 100)\n",
    "    \n",
    "    def forward(self, x):\n",
    "        x = F.relu(self.layer1(x))\n",
    "        x = F.relu(self.layer2(x))\n",
    "        x = F.relu(self.layer3(x))\n",
    "        x = F.relu(self.layer4(x))\n",
    "        return x\n",
    "    \n",
    "    def encode(self, x):\n",
    "        x = F.relu(self.layer1(x))\n",
    "        x = F.relu(self.layer2(x))\n",
    "        return x\n",
    "        \n",
    "net = Glove2Sparse()"
   ]
  },
  {
   "cell_type": "code",
   "execution_count": 8,
   "metadata": {},
   "outputs": [],
   "source": [
    "import torch.optim as optim\n",
    "\n",
    "lin1_params = torch.cat([x.view(-1) for x in net.layer1.parameters()])\n",
    "lin2_params = torch.cat([x.view(-1) for x in net.layer2.parameters()])\n",
    "lin3_params = torch.cat([x.view(-1) for x in net.layer3.parameters()])\n",
    "lin4_params = torch.cat([x.view(-1) for x in net.layer4.parameters()])\n",
    "net_params = torch.cat([lin1_params, lin4_params]) #lin2_params, lin3_params, \n",
    "criterion = nn.MSELoss()\n",
    "optimizer = optim.SGD(net.parameters(), lr=0.01, momentum=0.9)"
   ]
  },
  {
   "cell_type": "code",
   "execution_count": 9,
   "metadata": {},
   "outputs": [],
   "source": [
    "batch_size = 20\n",
    "num_words = len(list(glove))\n",
    "num_epochs = 10\n",
    "learning_rate = 0.01\n",
    "lambda1 = .1125  # Seems to be best for 100 -> 500 -> 5000 -> 500 -> 100"
   ]
  },
  {
   "cell_type": "code",
   "execution_count": 10,
   "metadata": {},
   "outputs": [],
   "source": [
    "def sample(sample_size):\n",
    "    return torch.stack([torch.tensor(random.choice(list(glove.values()))) for k in range(sample_size)], dim=0)"
   ]
  },
  {
   "cell_type": "code",
   "execution_count": null,
   "metadata": {},
   "outputs": [],
   "source": [
    "from torch.autograd import Variable\n",
    "\n",
    "for epoch in range(15):\n",
    "    epoch_loss = 0\n",
    "    num_pts = 0\n",
    "    for j in range(num_words // batch_size - 1):\n",
    "        x_var = torch.tensor(list(glove.values())[batch_size * j: batch_size * (j + 1)])\n",
    "        optimizer.zero_grad()\n",
    "        xpred_var = net(x_var)\n",
    "        loss = criterion(xpred_var, x_var) + lambda1 * (torch.norm(lin1_params, 1))\n",
    "        loss.backward()\n",
    "        optimizer.step()\n",
    "        # running loss\n",
    "        epoch_loss += loss.item()\n",
    "        num_pts += batch_size\n",
    "    print(f\"Epoch {epoch} Average Loss:  {epoch_loss / num_pts}\")"
   ]
  },
  {
   "cell_type": "code",
   "execution_count": 11,
   "metadata": {},
   "outputs": [
    {
     "data": {
      "text/plain": [
       "<All keys matched successfully>"
      ]
     },
     "execution_count": 11,
     "metadata": {},
     "output_type": "execute_result"
    }
   ],
   "source": [
    "# torch.save(net.state_dict(), \"data/sparse_glove.pt\")\n",
    "net.load_state_dict(torch.load(\"data/sparse_glove.pt\"))"
   ]
  },
  {
   "cell_type": "code",
   "execution_count": 12,
   "metadata": {},
   "outputs": [],
   "source": [
    "def word2vec(word):\n",
    "    return encode(net, torch.tensor(glove[word]).unsqueeze(0)).squeeze().detach()"
   ]
  },
  {
   "cell_type": "code",
   "execution_count": 13,
   "metadata": {},
   "outputs": [],
   "source": [
    "def vec_dist(vec1, vec2):\n",
    "    diff = vec1 - vec2\n",
    "    return np.sqrt(np.dot(vec1, vec2))\n",
    "\n",
    "def word_dist(word1, word2):\n",
    "    return vec_dist(word2vec(word1), word2vec(word2))"
   ]
  },
  {
   "cell_type": "code",
   "execution_count": 14,
   "metadata": {},
   "outputs": [],
   "source": [
    "def get_sparsity():\n",
    "    activation_counts = []\n",
    "    for word in glove:\n",
    "        count = 0\n",
    "        for num in word2vec(word):\n",
    "            if num != 0:\n",
    "                count += 1\n",
    "        activation_counts.append(count)\n",
    "        if len(activation_counts) % 1000 == 0:\n",
    "            print(len(activation_counts))\n",
    "    print(np.average(activation_counts))\n",
    "    print(np.std(activation_counts))"
   ]
  },
  {
   "cell_type": "code",
   "execution_count": 15,
   "metadata": {},
   "outputs": [],
   "source": [
    "def get_quick_sparsity():\n",
    "    activation_counts = []\n",
    "    for word in glove:\n",
    "        count = 0\n",
    "        for num in word2vec(word):\n",
    "            if num != 0:\n",
    "                count += 1\n",
    "        activation_counts.append(count)\n",
    "        if len(activation_counts) % 1000 == 0:\n",
    "            break\n",
    "    print(np.average(activation_counts))\n",
    "    print(np.std(activation_counts))"
   ]
  },
  {
   "cell_type": "code",
   "execution_count": 18,
   "metadata": {},
   "outputs": [],
   "source": [
    "def vanilla_loss():\n",
    "    epoch_loss = 0\n",
    "    num_pts = 0\n",
    "    for j in range(1):\n",
    "        x_var = torch.tensor(list(glove.values())[batch_size * j: batch_size * (j + 1)])\n",
    "        xpred_var = net(x_var)\n",
    "        loss = criterion(xpred_var, x_var)\n",
    "        # running loss\n",
    "        epoch_loss += loss.item()\n",
    "        num_pts += batch_size\n",
    "        print(f\"Average Loss:  {epoch_loss / num_pts}\")"
   ]
  },
  {
   "cell_type": "code",
   "execution_count": 19,
   "metadata": {},
   "outputs": [
    {
     "name": "stdout",
     "output_type": "stream",
     "text": [
      "Average Loss:  0.015339434146881104\n"
     ]
    }
   ],
   "source": [
    "vanilla_loss()"
   ]
  },
  {
   "cell_type": "code",
   "execution_count": 20,
   "metadata": {},
   "outputs": [
    {
     "name": "stdout",
     "output_type": "stream",
     "text": [
      "128.841\n",
      "55.14616685681789\n"
     ]
    }
   ],
   "source": [
    "get_quick_sparsity()"
   ]
  },
  {
   "cell_type": "code",
   "execution_count": 21,
   "metadata": {
    "scrolled": true
   },
   "outputs": [
    {
     "name": "stdout",
     "output_type": "stream",
     "text": [
      "1000\n",
      "2000\n",
      "3000\n",
      "4000\n",
      "5000\n",
      "6000\n",
      "7000\n",
      "8000\n",
      "9000\n",
      "271.94321734745336\n",
      "117.14839972178171\n"
     ]
    }
   ],
   "source": [
    "get_sparsity()"
   ]
  },
  {
   "cell_type": "code",
   "execution_count": null,
   "metadata": {},
   "outputs": [],
   "source": [
    "# lambda = 0\n",
    "# loss 0.012708248198032379\n",
    "# 3664.67776096823\n",
    "# 97.67200633555687\n",
    "\n",
    "# lambda1 = .05\n",
    "# 611.2133131618759\n",
    "# 177.31054319599318\n",
    "\n",
    "# lambda1 = .1\n",
    "# loss 0.015839888155460356\n",
    "# 316.0678769541099\n",
    "# 118.53467815898497\n",
    "\n",
    "# lambda = .1125\n",
    "# loss 0.015339434146881104\n",
    "# 271.94321734745336\n",
    "# 117.14839972178171\n",
    "\n",
    "# lambda = .125\n",
    "# loss 0.01642419397830963\n",
    "# 277.6256177508825\n",
    "# 118.43740749871542\n",
    "\n",
    "# lambda = .1375\n",
    "# loss 0.017420050501823426\n",
    "# 449.6806858295512\n",
    "# 155.40801569268137\n",
    "\n",
    "# lambda = .15\n",
    "# loss 0.018738116323947906\n",
    "# 1436.8970247100353\n",
    "# 138.1195882626668\n",
    "\n",
    "# lambda1 = .2\n",
    "# loss 0.018738116323947906\n",
    "# 2120.891477559254\n",
    "# 50.82771591344319\n",
    "\n",
    "# lambda= .3\n",
    "# loss 0.018738116323947906\n",
    "# 2271.539283913263\n",
    "# 39.27734433492949"
   ]
  },
  {
   "cell_type": "code",
   "execution_count": null,
   "metadata": {},
   "outputs": [],
   "source": [
    "# Scaling down to ~ 500 can get around 70 neurons active"
   ]
  }
 ],
 "metadata": {
  "kernelspec": {
   "display_name": "Python 3",
   "language": "python",
   "name": "python3"
  },
  "language_info": {
   "codemirror_mode": {
    "name": "ipython",
    "version": 3
   },
   "file_extension": ".py",
   "mimetype": "text/x-python",
   "name": "python",
   "nbconvert_exporter": "python",
   "pygments_lexer": "ipython3",
   "version": "3.7.6"
  }
 },
 "nbformat": 4,
 "nbformat_minor": 2
}
